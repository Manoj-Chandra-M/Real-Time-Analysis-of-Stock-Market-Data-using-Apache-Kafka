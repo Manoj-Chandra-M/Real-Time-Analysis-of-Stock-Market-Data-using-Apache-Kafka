{
 "cells": [
  {
   "cell_type": "markdown",
   "id": "7cff6b79",
   "metadata": {},
   "source": [
    "## Kafka Cosumer code"
   ]
  },
  {
   "cell_type": "code",
   "execution_count": null,
   "id": "4cf362b2",
   "metadata": {
    "scrolled": true
   },
   "outputs": [],
   "source": [
    "pip install s3fs"
   ]
  },
  {
   "cell_type": "code",
   "execution_count": null,
   "id": "fffbc7dc",
   "metadata": {},
   "outputs": [],
   "source": [
    "from kafka import KafkaConsumer\n",
    "from time import sleep\n",
    "from json import dumps,loads\n",
    "import json\n",
    "from s3fs import S3FileSystem"
   ]
  },
  {
   "cell_type": "code",
   "execution_count": null,
   "id": "8b5c448f",
   "metadata": {},
   "outputs": [],
   "source": [
    "consumer = KafkaConsumer(\n",
    "    'demo_test_1',\n",
    "     bootstrap_servers=['Mention your public IP here from EC2 instance:9092'], \n",
    "    api_version=(0,11,5),\n",
    "    value_deserializer=lambda x: loads(x.decode('utf-8')))"
   ]
  },
  {
   "cell_type": "markdown",
   "id": "65f24c67",
   "metadata": {},
   "source": [
    "**This code creates a KafkaConsumer object configured to consume messages from the Kafka topic 'demo_test_1', connecting to a Kafka broker running on an EC2 instance at a specified IP address and port, using Kafka API version 0.11.5, and deserializing message values from JSON format to Python dictionaries.**"
   ]
  },
  {
   "cell_type": "code",
   "execution_count": null,
   "id": "17170fe9",
   "metadata": {},
   "outputs": [],
   "source": [
    "#for c in consumer:\n",
    "#    print(c.value)"
   ]
  },
  {
   "cell_type": "code",
   "execution_count": null,
   "id": "a96d3376",
   "metadata": {},
   "outputs": [],
   "source": [
    "s3 = S3FileSystem()"
   ]
  },
  {
   "cell_type": "code",
   "execution_count": null,
   "id": "4e48895b",
   "metadata": {},
   "outputs": [],
   "source": [
    "for count, i in enumerate(consumer):\n",
    "    with s3.open(\"s3://kafka-stock-de-manoj/stock_market_{}.json\".format(count), 'w') as file:\n",
    "        json.dump(i.value, file) "
   ]
  },
  {
   "cell_type": "markdown",
   "id": "706139ab",
   "metadata": {},
   "source": [
    "**In summary, this code iterates over messages received from a Kafka topic, writes each message to a separate file in an Amazon S3 bucket, and formats the message values as JSON before writing them.**"
   ]
  },
  {
   "cell_type": "code",
   "execution_count": null,
   "id": "d960ef13",
   "metadata": {},
   "outputs": [],
   "source": []
  }
 ],
 "metadata": {
  "kernelspec": {
   "display_name": "Python 3 (ipykernel)",
   "language": "python",
   "name": "python3"
  },
  "language_info": {
   "codemirror_mode": {
    "name": "ipython",
    "version": 3
   },
   "file_extension": ".py",
   "mimetype": "text/x-python",
   "name": "python",
   "nbconvert_exporter": "python",
   "pygments_lexer": "ipython3",
   "version": "3.11.5"
  }
 },
 "nbformat": 4,
 "nbformat_minor": 5
}
